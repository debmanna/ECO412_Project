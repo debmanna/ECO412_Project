{
 "cells": [
  {
   "cell_type": "markdown",
   "metadata": {},
   "source": [
    "Importing Libraries"
   ]
  },
  {
   "cell_type": "code",
   "execution_count": 29,
   "metadata": {},
   "outputs": [],
   "source": [
    "import gegravity as ge\n",
    "import pandas as pd\n",
    "import gme as gme\n",
    "\n",
    "# Increase number of columns printed for a pandas DataFrame\n",
    "pd.set_option(\"display.max_columns\", None)\n",
    "pd.set_option('display.width', 1000)"
   ]
  },
  {
   "cell_type": "markdown",
   "metadata": {},
   "source": [
    "Loading dataset"
   ]
  },
  {
   "cell_type": "code",
   "execution_count": 30,
   "metadata": {},
   "outputs": [
    {
     "name": "stdout",
     "output_type": "stream",
     "text": [
      "      exporter importer  year        trade             Y             E  pta  contiguity  common_language  lndist  international\n",
      "0    Australia   Mexico  2021   2485957.01  3.420361e+08  5.065655e+08    1           0                0   14359              1\n",
      "1       Canada   Mexico  2021  20453800.09  5.015389e+08  5.065655e+08    1           0                0    3604              1\n",
      "2        Chile   Mexico  2021   1139794.39  9.467681e+07  5.065655e+08    1           0                0    7353              1\n",
      "3        Japan   Mexico  2021   5062543.94  7.570663e+08  5.065655e+08    1           0                0   10791              1\n",
      "4  New Zealand   Mexico  2021     85753.55  4.432529e+07  5.065655e+08    1           0                0   11103              1\n"
     ]
    }
   ],
   "source": [
    "gravity_data_location = \"CPTPP_modified_main.csv\" \n",
    "grav_data = pd.read_csv(gravity_data_location)\n",
    "\n",
    "print(grav_data.head())"
   ]
  },
  {
   "cell_type": "markdown",
   "metadata": {},
   "source": [
    "Prepare Dataset and Econometric Inputs for GE Model"
   ]
  },
  {
   "cell_type": "code",
   "execution_count": 31,
   "metadata": {},
   "outputs": [],
   "source": [
    "# Define GME Estimation Data\n",
    "gme_data = gme.EstimationData(grav_data, # Dataset\n",
    "                              imp_var_name=\"importer\", # Importer column name\n",
    "                              exp_var_name=\"exporter\", # Exporter column name\n",
    "                              year_var_name = \"year\",  # Year column name\n",
    "                              trade_var_name=\"trade\")  # Trade column name\n",
    "\n",
    "# Create Gravity Model\n",
    "gme_model = gme.EstimationModel(gme_data, # Specify data to use\n",
    "                                lhs_var=\"trade\",                               # dependent, \"left hand side\" variable\n",
    "                                rhs_var=[\"pta\",\"contiguity\",\"common_language\", # independent variables\n",
    "                                         \"lndist\",\"international\"],\n",
    "                                fixed_effects=[[\"exporter\"],[\"importer\"]])     # Fixed effects to use"
   ]
  },
  {
   "cell_type": "markdown",
   "metadata": {},
   "source": [
    "Estimate the Gravity Model with PPML"
   ]
  },
  {
   "cell_type": "code",
   "execution_count": 32,
   "metadata": {},
   "outputs": [
    {
     "name": "stdout",
     "output_type": "stream",
     "text": [
      "Estimation began at 12:02 PM  on Nov 16, 2023\n",
      "Omitted Regressors: ['importer_fe_Vietnam']\n",
      "Estimation completed at 12:02 PM  on Nov 16, 2023\n",
      "                 Generalized Linear Model Regression Results                  \n",
      "==============================================================================\n",
      "Dep. Variable:                  trade   No. Observations:                  400\n",
      "Model:                            GLM   Df Residuals:                      356\n",
      "Model Family:                 Poisson   Df Model:                           43\n",
      "Link Function:                    Log   Scale:                          1.0000\n",
      "Method:                          IRLS   Log-Likelihood:            -1.7401e+09\n",
      "Date:                Thu, 16 Nov 2023   Deviance:                   3.4801e+09\n",
      "Time:                        12:02:19   Pearson chi2:                 3.76e+09\n",
      "No. Iterations:                    10   Pseudo R-squ. (CS):              1.000\n",
      "Covariance Type:                  HC1                                         \n",
      "===========================================================================================\n",
      "                              coef    std err          z      P>|z|      [0.025      0.975]\n",
      "-------------------------------------------------------------------------------------------\n",
      "pta                         0.0622      0.237      0.263      0.793      -0.402       0.526\n",
      "contiguity                  1.1767      0.242      4.856      0.000       0.702       1.652\n",
      "common_language            -0.6698      0.235     -2.855      0.004      -1.130      -0.210\n",
      "lndist                   1.204e-05   2.21e-05      0.544      0.586   -3.13e-05    5.54e-05\n",
      "international              -2.7103      0.377     -7.185      0.000      -3.450      -1.971\n",
      "exporter_fe_Australia      18.3632      0.529     34.700      0.000      17.326      19.400\n",
      "exporter_fe_Brazil         17.5486      0.497     35.329      0.000      16.575      18.522\n",
      "exporter_fe_Brunei         14.8607      0.661     22.484      0.000      13.565      16.156\n",
      "exporter_fe_Canada         18.1358      0.473     38.336      0.000      17.209      19.063\n",
      "exporter_fe_Chile          16.1176      0.528     30.515      0.000      15.082      17.153\n",
      "exporter_fe_China          19.4720      0.423     46.076      0.000      18.644      20.300\n",
      "exporter_fe_France         18.3567      0.542     33.887      0.000      17.295      19.418\n",
      "exporter_fe_Germany        18.7100      0.435     43.000      0.000      17.857      19.563\n",
      "exporter_fe_India          18.2981      0.559     32.726      0.000      17.202      19.394\n",
      "exporter_fe_Italy          17.9838      0.428     42.049      0.000      17.146      18.822\n",
      "exporter_fe_Japan          18.0577      0.455     39.680      0.000      17.166      18.950\n",
      "exporter_fe_Malaysia       17.7388      0.505     35.137      0.000      16.749      18.728\n",
      "exporter_fe_Mexico         18.4841      0.471     39.273      0.000      17.562      19.407\n",
      "exporter_fe_New Zealand    15.7031      0.550     28.560      0.000      14.625      16.781\n",
      "exporter_fe_Peru           15.9319      0.489     32.604      0.000      14.974      16.890\n",
      "exporter_fe_Russia         18.2330      0.709     25.711      0.000      16.843      19.623\n",
      "exporter_fe_Singapore      18.1750      0.470     38.642      0.000      17.253      19.097\n",
      "exporter_fe_UK             18.7214      0.434     43.116      0.000      17.870      19.572\n",
      "exporter_fe_USA            19.8086      0.478     41.430      0.000      18.871      20.746\n",
      "exporter_fe_Vietnam        17.6662      0.522     33.864      0.000      16.644      18.689\n",
      "importer_fe_Australia       0.5742      0.479      1.197      0.231      -0.366       1.514\n",
      "importer_fe_Brazil         -0.0662      0.491     -0.135      0.893      -1.029       0.897\n",
      "importer_fe_Brunei         -2.6901      0.549     -4.902      0.000      -3.766      -1.614\n",
      "importer_fe_Canada         -0.3555      0.448     -0.794      0.427      -1.233       0.522\n",
      "importer_fe_Chile          -1.5921      0.527     -3.019      0.003      -2.626      -0.558\n",
      "importer_fe_China           1.7575      0.400      4.389      0.000       0.973       2.542\n",
      "importer_fe_France          0.1906      0.446      0.428      0.669      -0.683       1.064\n",
      "importer_fe_Germany         0.7250      0.416      1.743      0.081      -0.090       1.540\n",
      "importer_fe_India           0.5538      0.456      1.216      0.224      -0.339       1.447\n",
      "importer_fe_Italy           0.0199      0.381      0.052      0.958      -0.727       0.767\n",
      "importer_fe_Japan           0.1337      0.422      0.317      0.752      -0.694       0.961\n",
      "importer_fe_Malaysia        0.1724      0.397      0.434      0.664      -0.607       0.951\n",
      "importer_fe_Mexico         -0.1281      0.447     -0.287      0.774      -1.004       0.747\n",
      "importer_fe_New Zealand    -1.6520      0.490     -3.374      0.001      -2.612      -0.692\n",
      "importer_fe_Peru           -1.6719      0.474     -3.527      0.000      -2.601      -0.743\n",
      "importer_fe_Russia          0.2884      0.602      0.479      0.632      -0.891       1.468\n",
      "importer_fe_Singapore      -0.0990      0.409     -0.242      0.809      -0.901       0.703\n",
      "importer_fe_UK              0.8521      0.398      2.139      0.032       0.071       1.633\n",
      "importer_fe_USA             1.9457      0.501      3.883      0.000       0.964       2.928\n",
      "===========================================================================================\n"
     ]
    },
    {
     "name": "stderr",
     "output_type": "stream",
     "text": [
      "/home/debanjan/.local/lib/python3.10/site-packages/gme/estimate/_ppml_estimation_and_diagnostics.py:306: FutureWarning: The series.append method is deprecated and will be removed from pandas in a future version. Use pandas.concat instead.\n",
      "  diagnostics = overfit_column.append(exclusion_column)\n"
     ]
    }
   ],
   "source": [
    "gme_model.estimate()\n",
    "# Print econometric results table\n",
    "\n",
    "print(gme_model.results_dict['all'].summary())"
   ]
  },
  {
   "cell_type": "markdown",
   "metadata": {},
   "source": [
    "Define a GE Model"
   ]
  },
  {
   "cell_type": "code",
   "execution_count": 33,
   "metadata": {},
   "outputs": [],
   "source": [
    "# Define GE model\n",
    "ge_model = ge.OneSectorGE(gme_model,                   # gme gravity model\n",
    "                       year = \"2021\",               # Year to use for model\n",
    "                       expend_var_name = \"E\",       # Expenditure column name\n",
    "                       output_var_name = \"Y\",       # Output column name\n",
    "                       reference_importer = \"India\",  # Reference importer\n",
    "                       sigma = 5)                   # Elasticity of substitution"
   ]
  },
  {
   "cell_type": "markdown",
   "metadata": {},
   "source": [
    "Diagonose Model Solvability"
   ]
  },
  {
   "cell_type": "code",
   "execution_count": 34,
   "metadata": {},
   "outputs": [
    {
     "name": "stdout",
     "output_type": "stream",
     "text": [
      "dict_keys(['initial values', 'mr_params', 'function_value'])\n",
      "[[1.00506318e-02 7.69547389e-04 2.44411641e-05 1.58447015e-03\n",
      "  5.70992826e-04 1.56659271e-02 4.35465196e-03 8.59696619e-03\n",
      "  3.43520902e-03 4.45645685e-03 6.86033311e-04 3.19973389e-03\n",
      "  1.40735497e-04 3.17462356e-04 1.73830486e-03 1.16566879e-03\n",
      "  2.26930380e-03 9.49756414e-03 1.87046117e-03 1.70419880e-03]\n",
      " [1.66511421e-03 9.01724018e-03 5.45820428e-05 2.91005974e-03\n",
      "  5.07915250e-04 1.75034807e-02 4.28453140e-03 8.53903664e-03\n",
      "  3.36487548e-03 5.09662924e-03 1.51656621e-03 1.51695667e-03\n",
      "  3.09567797e-04 9.14544029e-04 1.86824038e-03 2.65139536e-03\n",
      "  4.07571342e-03 1.71611849e-02 2.15668168e-03 3.63086367e-03]\n",
      " [1.45685818e-03 1.46945583e-03 3.29457289e-04 3.07757198e-03\n",
      "  5.97405351e-04 1.48605535e-02 4.05028815e-03 8.05278372e-03\n",
      "  3.22718740e-03 4.31988573e-03 2.13784044e-03 3.22036551e-03\n",
      "  2.87674547e-04 3.41055631e-04 2.40859763e-02 1.22544559e-03\n",
      "  4.12506507e-03 1.74378463e-02 1.78466838e-03 3.19388838e-03]\n",
      " [8.43457488e-04 1.31068544e-03 5.28361561e-05 1.88805319e-02\n",
      "  5.57365051e-04 1.50276024e-02 2.08723240e-03 8.16710933e-03\n",
      "  3.30069605e-03 4.52292220e-03 1.47727358e-03 2.81122567e-03\n",
      "  3.06070402e-04 2.98780709e-04 8.25867671e-04 2.19431131e-03\n",
      "  2.01196767e-03 2.69863869e-02 2.02011648e-03 1.67333963e-03]\n",
      " [1.62015832e-03 1.30550958e-03 5.55650449e-05 2.97089567e-03\n",
      "  3.54214682e-03 1.77154253e-02 4.11911532e-03 8.29877416e-03\n",
      "  3.30581475e-03 5.05581642e-03 1.54341452e-03 2.94098188e-03\n",
      "  2.93688494e-04 4.67859328e-04 1.79827494e-03 2.71998516e-03\n",
      "  4.17501431e-03 1.71611849e-02 2.17231274e-03 3.70507331e-03]\n",
      " [1.53981114e-03 1.27445861e-03 4.72415147e-05 2.91005974e-03\n",
      "  6.08413324e-04 1.03138171e-01 4.18262570e-03 8.28592440e-03\n",
      "  3.32461862e-03 4.22923673e-03 1.32850309e-03 3.14782184e-03\n",
      "  2.91487513e-04 3.45975663e-04 5.30829205e-03 2.24023817e-03\n",
      "  4.05125945e-03 1.77921636e-02 5.86094432e-03 1.03787626e-02]\n",
      " [8.62521724e-04 1.39485629e-03 5.20165002e-05 1.43309121e-03\n",
      "  5.65344295e-04 1.57065189e-02 2.74655618e-02 1.27199121e-02\n",
      "  5.07307631e-03 4.65671125e-03 1.42799128e-03 3.00347626e-03\n",
      "  1.66250624e-04 3.11579748e-04 1.62479154e-03 2.45482558e-03\n",
      "  1.87946935e-03 8.60517967e-03 1.95870367e-03 1.69787245e-03]\n",
      " [1.68527660e-03 1.40665787e-03 5.17044052e-05 2.81023817e-03\n",
      "  5.79815818e-04 1.56122810e-02 1.24703807e-02 5.47386438e-02\n",
      "  3.05598827e-03 4.57339343e-03 1.43661083e-03 2.99986346e-03\n",
      "  3.24836209e-04 3.14215957e-04 1.58805682e-03 2.43716168e-03\n",
      "  3.71049421e-03 1.69354753e-02 1.94695159e-03 3.27777430e-03]\n",
      " [1.66511421e-03 1.39485629e-03 5.20165002e-05 2.87524423e-03\n",
      "  5.65344295e-04 1.57065189e-02 1.24703807e-02 7.66239258e-03\n",
      "  2.18313864e-02 4.65671125e-03 1.44180752e-03 3.03618795e-03\n",
      "  3.04761753e-04 3.09337750e-04 1.60728615e-03 2.40800385e-03\n",
      "  3.70157306e-03 1.69967364e-02 1.93527003e-03 3.27777430e-03]\n",
      " [1.50949675e-03 1.43796276e-03 4.79645634e-05 2.87794480e-03\n",
      "  6.03541267e-04 1.38133669e-02 4.00183112e-03 7.92776415e-03\n",
      "  3.21942826e-03 2.96722776e-02 1.34675989e-03 3.06523192e-03\n",
      "  2.92703930e-04 3.27739313e-04 1.61365844e-03 2.62516650e-03\n",
      "  4.07571342e-03 1.75793008e-02 1.84126710e-03 3.25685328e-03]\n",
      " [7.53230425e-04 1.53030723e-03 7.69420403e-05 1.55942071e-03\n",
      "  6.11459912e-04 1.49682588e-02 4.28453140e-03 8.59057946e-03\n",
      "  3.32461862e-03 4.36546335e-03 9.15399584e-03 3.26057634e-03\n",
      "  1.48987230e-04 3.41918760e-04 1.74857132e-03 3.73864179e-03\n",
      "  2.11120135e-03 9.08724933e-03 1.78529142e-03 1.60992715e-03]\n",
      " [1.65231716e-03 1.38982883e-03 5.45117945e-05 2.72706900e-03\n",
      "  2.73932745e-04 1.68827398e-02 4.23837015e-03 8.43687691e-03\n",
      "  3.36487548e-03 4.67304985e-03 1.53352647e-03 1.94631804e-02\n",
      "  2.98959722e-04 1.47302666e-04 1.75912594e-03 2.30148563e-03\n",
      "  4.06591417e-03 2.52057816e-02 2.09625791e-03 3.63558645e-03]\n",
      " [7.47936514e-04 1.47603664e-03 5.01150632e-05 1.56387535e-03\n",
      "  5.50074124e-04 1.62840128e-02 4.77471890e-03 9.40212869e-03\n",
      "  3.51811073e-03 4.59247882e-03 1.40905722e-03 3.07676420e-03\n",
      "  1.89117743e-03 3.10352116e-04 1.96038519e-03 1.11091848e-03\n",
      "  2.35274107e-03 8.87111309e-03 1.96243205e-03 1.68346040e-03]\n",
      " [1.52473911e-03 4.19391083e-03 5.36950548e-05 2.69573206e-03\n",
      "  8.42796623e-04 1.81470449e-02 4.08947589e-03 8.21925045e-03\n",
      "  3.22718740e-03 4.64717863e-03 1.49569687e-03 1.37004351e-03\n",
      "  2.80476792e-04 1.96634204e-03 1.71374987e-03 2.06709163e-03\n",
      "  3.93726935e-03 1.70582191e-02 2.08477794e-03 3.49240722e-03]\n",
      " [1.64519303e-03 1.49390955e-03 5.10858215e-05 2.87524423e-03\n",
      "  5.93942480e-04 1.49682588e-02 3.91471003e-03 7.75517430e-03\n",
      "  3.11166209e-03 4.46461727e-03 1.39402713e-03 3.03618795e-03\n",
      "  3.28769558e-04 3.18020708e-04 1.12767016e-02 2.40800385e-03\n",
      "  3.76900811e-03 1.73689848e-02 1.91211676e-03 3.21912840e-03]\n",
      " [7.49892536e-04 1.43796276e-03 4.34807346e-05 1.56395065e-03\n",
      "  5.95187654e-04 1.49682588e-02 4.05516601e-03 8.02375918e-03\n",
      "  3.16182628e-03 4.37108903e-03 4.12520384e-03 3.26450313e-03\n",
      "  1.48339501e-04 3.42338781e-04 1.61365844e-03 1.56231822e-02\n",
      "  2.12650278e-03 9.67082302e-03 1.78937876e-03 1.61689856e-03]\n",
      " [8.54307948e-04 1.30596135e-03 5.22071741e-05 1.42940474e-03\n",
      "  5.63605030e-04 1.48478145e-02 3.58408196e-03 7.21736784e-03\n",
      "  2.87157849e-03 4.60842565e-03 1.43754485e-03 2.97877959e-03\n",
      "  1.67282322e-04 3.06391933e-04 1.51029648e-03 1.26174011e-03\n",
      "  2.64433187e-02 8.10539873e-03 1.96976787e-03 1.58064184e-03]\n",
      " [8.47089495e-04 1.38982883e-03 5.45820428e-05 4.52139255e-03\n",
      "  5.39420036e-04 1.62840128e-02 4.09791384e-03 8.22630236e-03\n",
      "  3.29276018e-03 4.62877134e-03 1.51656621e-03 9.05230884e-03\n",
      "  1.57485671e-04 2.97650076e-04 1.71728591e-03 1.34074498e-03\n",
      "  2.02411219e-03 1.12690357e-01 2.05531027e-03 1.80971019e-03]\n",
      " [1.39004868e-03 1.43796276e-03 4.34775947e-05 2.82019144e-03\n",
      "  5.68953612e-04 4.75670223e-02 4.05516601e-03 7.88019817e-03\n",
      "  3.16182628e-03 4.03976060e-03 1.20839183e-03 3.01679969e-03\n",
      "  2.74419428e-04 3.22580277e-04 1.68859141e-03 2.46230467e-03\n",
      "  3.78395082e-03 1.71258486e-02 1.27081127e-02 2.95983192e-03]\n",
      " [7.34384240e-04 1.49390955e-03 4.80130812e-05 1.44158098e-03\n",
      "  5.98830741e-04 4.87259477e-02 3.88320972e-03 7.64661508e-03\n",
      "  3.06810413e-03 4.40950461e-03 1.31388939e-03 3.22870976e-03\n",
      "  1.45269989e-04 3.33469144e-04 1.57149084e-03 1.29413123e-03\n",
      "  1.93217272e-03 8.74390678e-03 1.82650060e-03 2.19158983e-02]]\n",
      "\n",
      "Trying OMR rescale factor of 0.001\n",
      "Solving for baseline MRs...\n"
     ]
    },
    {
     "name": "stderr",
     "output_type": "stream",
     "text": [
      "/home/debanjan/.local/lib/python3.10/site-packages/gegravity/OneSectorGE.py:558: UserWarning: The iteration is not making good progress, as measured by the \n",
      "  improvement from the last five Jacobian evaluations.\n",
      "  warn(solved_mrs.message)\n"
     ]
    },
    {
     "name": "stdout",
     "output_type": "stream",
     "text": [
      "\n",
      "Trying OMR rescale factor of 0.01\n",
      "Solving for baseline MRs...\n"
     ]
    },
    {
     "name": "stderr",
     "output_type": "stream",
     "text": [
      "/home/debanjan/.local/lib/python3.10/site-packages/gegravity/OneSectorGE.py:558: UserWarning: The iteration is not making good progress, as measured by the \n",
      "  improvement from the last five Jacobian evaluations.\n",
      "  warn(solved_mrs.message)\n"
     ]
    },
    {
     "name": "stdout",
     "output_type": "stream",
     "text": [
      "\n",
      "Trying OMR rescale factor of 0.1\n",
      "Solving for baseline MRs...\n",
      "The solution converged.\n",
      "\n",
      "Trying OMR rescale factor of 1\n",
      "Solving for baseline MRs...\n",
      "The solution converged.\n",
      "\n",
      "Trying OMR rescale factor of 10\n",
      "Solving for baseline MRs...\n",
      "The solution converged.\n",
      "\n",
      "Trying OMR rescale factor of 100\n",
      "Solving for baseline MRs...\n",
      "The solution converged.\n",
      "\n",
      "Trying OMR rescale factor of 1000\n",
      "Solving for baseline MRs...\n",
      "The solution converged.\n",
      "   omr_rescale omr_rescale (alt format)  solved                                            message  max_func_value  mean_func_value  reference_importer_omr\n",
      "0        0.001                    10^-3   False  The iteration is not making good progress, as ...    3.870182e-02     1.686257e-04                1.257069\n",
      "1        0.010                    10^-2   False  The iteration is not making good progress, as ...    3.781309e-02     1.958435e-04                1.310264\n",
      "2        0.100                    10^-1    True                            The solution converged.    8.360070e-10     1.597965e-10                1.787515\n",
      "3        1.000                     10^0    True                            The solution converged.    2.126663e-10     1.645362e-11                1.787515\n",
      "4       10.000                     10^1    True                            The solution converged.    3.064274e-10    -1.012523e-13                1.787515\n",
      "5      100.000                     10^2    True                            The solution converged.    1.393177e-10     1.415790e-11                1.787515\n",
      "6     1000.000                     10^3    True                            The solution converged.    1.060907e-10    -1.075806e-11                1.787515\n"
     ]
    }
   ],
   "source": [
    "# The following commands are not required to define or solve the GE model but can help diagnose issues that arise if\n",
    "# the model fails to solve.\n",
    "\n",
    "##\n",
    "# Check inputs\n",
    "##\"\"\n",
    "\n",
    "# Test that the model system of equations is computable from the supplied data and parameters\n",
    "test_diagnostics = ge_model.test_baseline_mr_function()\n",
    "# See what is returned:\n",
    "print(test_diagnostics.keys())\n",
    "# Check the values of the model parameters computed from the baseline data, which should be numeric with no missing\n",
    "# values\n",
    "input_params = test_diagnostics['mr_params']\n",
    "# Check one set of parameters, for example:\n",
    "print(input_params['cost_exp_shr'])\n",
    "\n",
    "\n",
    "##\n",
    "# Check scaling of outward multilateral resistances (OMRs)\n",
    "##\n",
    "\n",
    "# Check for OMR rescale factors that results in convergence\n",
    "rescale_eval = ge_model.check_omr_rescale(omr_rescale_range=3)\n",
    "print(rescale_eval)\n",
    "# From the tests, it looks like 10, 100, and 1000 are good candidate rescale factors based on the fact that\n",
    "# the model solves (i.e. converges) and all three produce consistent solutions for the reference importer's\n",
    "# outward multilateral resistance (OMR) terms (2.918)."
   ]
  },
  {
   "cell_type": "markdown",
   "metadata": {},
   "source": [
    "Solving the BaseLine GE Model"
   ]
  },
  {
   "cell_type": "code",
   "execution_count": 35,
   "metadata": {},
   "outputs": [
    {
     "name": "stdout",
     "output_type": "stream",
     "text": [
      "Solving for baseline MRs...\n",
      "The solution converged.\n",
      "             baseline omr  baseline imr\n",
      "country                                \n",
      "Australia        1.942819      1.070281\n",
      "Brazil           1.840491      1.054386\n",
      "Brunei           1.808422      1.091267\n",
      "Canada           1.797318      1.051717\n",
      "Chile            1.866900      1.064646\n",
      "China            1.620557      0.894584\n",
      "France           1.849611      0.968671\n",
      "Germany          1.693060      0.964329\n",
      "India            1.787515      1.000000\n",
      "Italy            1.769935      1.024815\n",
      "Japan            1.776661      1.013177\n",
      "Malaysia         1.944037      1.025192\n",
      "Mexico           1.774734      0.999787\n",
      "New Zealand      1.991070      1.120847\n",
      "Peru             1.878647      1.056136\n",
      "Russia           1.869219      0.961785\n",
      "Singapore        1.892056      1.043771\n",
      "UK               1.840134      1.075487\n",
      "USA              1.547719      1.004403\n",
      "Vietnam          1.765015      0.977437\n"
     ]
    }
   ],
   "source": [
    "ge_model.build_baseline(omr_rescale=100)\n",
    "# Examine the solutions for the baselin multilateral resistances\n",
    "print(ge_model.baseline_mr.head(20))"
   ]
  },
  {
   "cell_type": "markdown",
   "metadata": {},
   "source": [
    "Solving the CounterFactual GE Model"
   ]
  },
  {
   "cell_type": "code",
   "execution_count": 36,
   "metadata": {},
   "outputs": [
    {
     "name": "stdout",
     "output_type": "stream",
     "text": [
      "                     baseline trade cost  experiment trade cost  trade cost change (%)\n",
      "exporter  importer                                                                    \n",
      "Australia Australia             0.511798               0.511798                    0.0\n",
      "          Brazil                0.043678               0.043678                    0.0\n",
      "          Brunei                0.037968               0.037968                    0.0\n",
      "          Canada                0.042951               0.042951                    0.0\n",
      "          Chile                 0.082502               0.082502                    0.0\n",
      "Solving for conditional MRs...\n",
      "The solution converged.\n",
      "Solving full GE model...\n",
      "The solution converged.\n",
      "                     baseline modeled trade  experiment trade  trade change (percent)\n",
      "exporter  importer                                                                   \n",
      "Australia Australia            6.592889e+07      6.592200e+07               -0.010436\n",
      "          Brazil               4.754732e+06      4.759726e+06                0.105038\n",
      "          Brunei               1.732759e+05      1.734580e+05                0.105073\n",
      "          Canada               9.691082e+06      9.695803e+06                0.048709\n",
      "          Chile                3.667270e+06      3.671082e+06                0.103943\n"
     ]
    }
   ],
   "source": [
    "# Create a copy of the baseline data\n",
    "exp_data = ge_model.baseline_data.copy()\n",
    "\n",
    "# Modify the copied data to reflect a counterfactual experiment in which India and CPTPP12 countries sign a preferential trade agreement (pta)\n",
    "\n",
    "exp_data.loc[(exp_data[\"importer\"] == \"Australia\") & (exp_data[\"exporter\"] == \"India\"), \"pta\"] = 1\n",
    "exp_data.loc[(exp_data[\"importer\"] == \"India\") & (exp_data[\"exporter\"] == \"Australia\"), \"pta\"] = 1\n",
    "\n",
    "exp_data.loc[(exp_data[\"importer\"] == \"Brunei\") & (exp_data[\"exporter\"] == \"India\"), \"pta\"] = 1\n",
    "exp_data.loc[(exp_data[\"importer\"] == \"India\") & (exp_data[\"exporter\"] == \"Brunei\"), \"pta\"] = 1\n",
    "\n",
    "exp_data.loc[(exp_data[\"importer\"] == \"Canada\") & (exp_data[\"exporter\"] == \"India\"), \"pta\"] = 1\n",
    "exp_data.loc[(exp_data[\"importer\"] == \"India\") & (exp_data[\"exporter\"] == \"Canada\"), \"pta\"] = 1\n",
    "\n",
    "exp_data.loc[(exp_data[\"importer\"] == \"Chile\") & (exp_data[\"exporter\"] == \"India\"), \"pta\"] = 1\n",
    "exp_data.loc[(exp_data[\"importer\"] == \"India\") & (exp_data[\"exporter\"] == \"Chile\"), \"pta\"] = 1\n",
    "\n",
    "exp_data.loc[(exp_data[\"importer\"] == \"Japan\") & (exp_data[\"exporter\"] == \"India\"), \"pta\"] = 1\n",
    "exp_data.loc[(exp_data[\"importer\"] == \"India\") & (exp_data[\"exporter\"] == \"Japan\"), \"pta\"] = 1\n",
    "\n",
    "exp_data.loc[(exp_data[\"importer\"] == \"Malaysia\") & (exp_data[\"exporter\"] == \"India\"), \"pta\"] = 1\n",
    "exp_data.loc[(exp_data[\"importer\"] == \"India\") & (exp_data[\"exporter\"] == \"Malaysia\"), \"pta\"] = 1\n",
    "\n",
    "exp_data.loc[(exp_data[\"importer\"] == \"Mexico\") & (exp_data[\"exporter\"] == \"India\"), \"pta\"] = 1\n",
    "exp_data.loc[(exp_data[\"importer\"] == \"India\") & (exp_data[\"exporter\"] == \"Mexico\"), \"pta\"] = 1\n",
    "\n",
    "exp_data.loc[(exp_data[\"importer\"] == \"New Zealand\") & (exp_data[\"exporter\"] == \"India\"), \"pta\"] = 1\n",
    "exp_data.loc[(exp_data[\"importer\"] == \"India\") & (exp_data[\"exporter\"] == \"New Zealand\"), \"pta\"] = 1\n",
    "\n",
    "exp_data.loc[(exp_data[\"importer\"] == \"Peru\") & (exp_data[\"exporter\"] == \"India\"), \"pta\"] = 1\n",
    "exp_data.loc[(exp_data[\"importer\"] == \"India\") & (exp_data[\"exporter\"] == \"Peru\"), \"pta\"] = 1\n",
    "\n",
    "exp_data.loc[(exp_data[\"importer\"] == \"Singapore\") & (exp_data[\"exporter\"] == \"India\"), \"pta\"] = 1\n",
    "exp_data.loc[(exp_data[\"importer\"] == \"India\") & (exp_data[\"exporter\"] == \"Singapore\"), \"pta\"] = 1\n",
    "\n",
    "exp_data.loc[(exp_data[\"importer\"] == \"UK\") & (exp_data[\"exporter\"] == \"India\"), \"pta\"] = 1\n",
    "exp_data.loc[(exp_data[\"importer\"] == \"India\") & (exp_data[\"exporter\"] == \"UK\"), \"pta\"] = 1\n",
    "\n",
    "exp_data.loc[(exp_data[\"importer\"] == \"Vietnam\") & (exp_data[\"exporter\"] == \"India\"), \"pta\"] = 1\n",
    "exp_data.loc[(exp_data[\"importer\"] == \"India\") & (exp_data[\"exporter\"] == \"Vietnam\"), \"pta\"] = 1\n",
    "\n",
    "# Define the experiment within the GE model\n",
    "ge_model.define_experiment(exp_data)\n",
    "# Examine the baseline and counterfactual trade costs\n",
    "print(ge_model.bilateral_costs.head())\n",
    "\n",
    "##\n",
    "# Simulate the counterfactual model\n",
    "##\n",
    "ge_model.simulate()\n",
    "# Examine the counterfactual trade flows predicted by the model.\n",
    "print(ge_model.bilateral_trade_results.head())"
   ]
  },
  {
   "cell_type": "markdown",
   "metadata": {},
   "source": [
    "### Access and Export Results"
   ]
  },
  {
   "cell_type": "code",
   "execution_count": 37,
   "metadata": {},
   "outputs": [],
   "source": [
    "##\n",
    "# Retrieve many of the different sets of model results\n",
    "##\n",
    "# A collection of many of the key country-level results (prices, total imports/exports, GDP, welfare, etc.)\n",
    "country_results = ge_model.country_results\n",
    "# The bilateral trade results\n",
    "bilateral_results = ge_model.bilateral_trade_results\n",
    "# A wider selection of aggregate, country-level trade results\n",
    "agg_trade = ge_model.aggregate_trade_results\n",
    "# country multilateral resistance (MR) terms\n",
    "mr_terms = ge_model.country_mr_terms\n",
    "# Get the solver diaganoistics, which is a dictionary containing many types of solver diagnostic info\n",
    "solver_diagnostics = ge_model.solver_diagnostics\n",
    "\n",
    "##\n",
    "# Export results\n",
    "##\n",
    "# Export the results to a collection of spreadsheet (.csv) files and add trade values in levels to the outputs.\n",
    "ge_model.export_results(directory=\"./Sample_result\",name=\"India_CPTPP_PTA_experiment\", include_levels = True)\n",
    "# It is also possible to add alternative country identifies such as full country names using the country_names argument.\n",
    "# See the technical documentation for details"
   ]
  }
 ],
 "metadata": {
  "kernelspec": {
   "display_name": "Python 3",
   "language": "python",
   "name": "python3"
  },
  "language_info": {
   "codemirror_mode": {
    "name": "ipython",
    "version": 3
   },
   "file_extension": ".py",
   "mimetype": "text/x-python",
   "name": "python",
   "nbconvert_exporter": "python",
   "pygments_lexer": "ipython3",
   "version": "3.10.12"
  }
 },
 "nbformat": 4,
 "nbformat_minor": 2
}
