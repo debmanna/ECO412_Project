{
  "cells": [
    {
      "cell_type": "code",
      "execution_count": null,
      "metadata": {
        "id": "v6TJikU_D-Y4"
      },
      "outputs": [],
      "source": [
        "# From Herman's Paper we use the gegravity package\n",
        "import pandas as pd\n",
        "import gme as gme\n",
        "import gegravity as ge"
      ]
    },
    {
      "cell_type": "code",
      "execution_count": null,
      "metadata": {
        "id": "oIMY0fr5D6nS"
      },
      "outputs": [],
      "source": [
        "gravity_data_location = \"sample_gravity_data.csv\"\n",
        "grav_data = pd . read_csv ( gravity_data_location )"
      ]
    },
    {
      "cell_type": "code",
      "execution_count": null,
      "metadata": {
        "id": "VLka3hRTDusp"
      },
      "outputs": [],
      "source": [
        "# Define GME Estimation Data\n",
        "gme_data = gme . EstimationData ( grav_data ,\n",
        "\t\t   imp_var_name =\"importer\",\n",
        "\t \t   exp_var_name =\"exporter\",\n",
        "\t\t   year_var_name = \"year\",\n",
        "\t\t   trade_var_name =\"trade\")"
      ]
    },
    {
      "cell_type": "code",
      "execution_count": null,
      "metadata": {
        "id": "WBkWFiHLED57"
      },
      "outputs": [],
      "source": [
        "# Create Gravity Model\n",
        "gme_model = gme . EstimationModel ( gme_data ,\n",
        "\t\t\t\t\tlhs_var =\"trade\",\n",
        "\t\t\t\t\trhs_var =[\"pta\", \"contiguity\", \"common_language\",\n",
        "\t\t\t\t\t\t\"lndist\", \"international\"],\n",
        "\t\t\t\t\tfixed_effects =[[\"exporter\"], [\"importer\"]])\n",
        "\n",
        "# Estimate gravity model with PPML\n",
        "gme_model . estimate ()\n",
        "# Print results table\n",
        "gme_model . results_dict [\"all\"]. summary ()"
      ]
    },
    {
      "cell_type": "code",
      "execution_count": null,
      "metadata": {
        "id": "FW6E4qGUEKBt"
      },
      "outputs": [],
      "source": [
        "# To conduct a counterfactual experiment\n",
        "ge_model = ge . OneSectorGE ( gme_model , year = \"2006\",\n",
        "\t\t\t              expend_var_name = \"E\",\n",
        "\t\t\t              output_var_name = \"Y\",\n",
        "\t\t\t\treference_importer = \"DEU\",\n",
        "\t\t\t\tsigma = 5)\n",
        "ge_model . build_baseline ( omr_rescale =10 )\n",
        "print ( ge_model . baseline_mr )"
      ]
    },
    {
      "cell_type": "code",
      "execution_count": null,
      "metadata": {
        "id": "lu2lbNFfEQxD"
      },
      "outputs": [],
      "source": [
        "# With the baseline solved, the model can be used to conduct counterfactual policy experiments\n",
        "\n",
        "# Get a copy of the data\n",
        "exp_data = ge_model . baseline_data . copy ()\n",
        "\n",
        "# Modify the desired cost measures\n",
        "exp_data . loc [( exp_data [\"importer\"]==\"CAN\") &\n",
        "\t\t( exp_data [\"exporter\"]==\"JPN\") , \"pta\"] = 1\n",
        "exp_data . loc [( exp_data [\"importer\"]==\"JPN\") & ( exp_data [\"importer\"]==\"JPN\") & ( exp_data [\"exporter\"]==\"CAN\") , \"pta\"] = 1\n",
        "# Supply the counterfactual data to the model\n",
        "ge_model . define_experiment ( exp_data )\n",
        "ge_model . simulate ()"
      ]
    },
    {
      "cell_type": "code",
      "execution_count": null,
      "metadata": {},
      "outputs": [],
      "source": [
        "country_results = ge_model . country_results\n",
        "bilateral_results = ge_model . bilateral_trade_results\n",
        "ge_model . export_results (name =\"CAN_JPN_PTA_experiment\")"
      ]
    }
  ],
  "metadata": {
    "colab": {
      "provenance": []
    },
    "kernelspec": {
      "display_name": "Python 3",
      "name": "python3"
    },
    "language_info": {
      "codemirror_mode": {
        "name": "ipython",
        "version": 3
      },
      "file_extension": ".py",
      "mimetype": "text/x-python",
      "name": "python",
      "nbconvert_exporter": "python",
      "pygments_lexer": "ipython3",
      "version": "3.10.12"
    }
  },
  "nbformat": 4,
  "nbformat_minor": 0
}
